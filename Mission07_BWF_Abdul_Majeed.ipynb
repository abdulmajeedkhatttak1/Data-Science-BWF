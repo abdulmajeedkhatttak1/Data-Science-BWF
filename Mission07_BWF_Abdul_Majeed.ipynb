{
 "cells": [
  {
   "cell_type": "markdown",
   "metadata": {},
   "source": [
    "# NumPy\n",
    "NumPy, short for Numerical Python, is one of the most important foundational pack\n",
    "ages for numerical computing in Python. Many computational packages providing\n",
    "scientific functionality use NumPy’s array objects as one of the standard interface\n",
    "lingua francas for data exchange.\n",
    "cd\n",
    "Here are some of the things you’ll find in NumPy.\n",
    "\n",
    "•ndarray, an efficient multidimensional array providing fast array-oriented arithmetic operations and flexible broadcasting capabilities\n",
    "\n",
    "•Mathematical functions for fast operations on entire arrays of data without having to write loops\n",
    "\n",
    "•Tools for reading/writing array data to disk and working with memory mapped files\n",
    "\n",
    "•Linear algebra, random number generation, and Fourier transform capabilities\n",
    "\n",
    "•A C API for connecting NumPy with libraries written in C, C++, or FORTRAN\n",
    "## Installation\n",
    "Programmers can install NumPy through different methods depending on the environment and OS.\n",
    "### e.g\n",
    "pip install numpy or !pip install numpy or pip3 install numpy"
   ]
  },
  {
   "cell_type": "code",
   "execution_count": null,
   "metadata": {},
   "outputs": [],
   "source": [
    "# importing numpy library\n",
    "import numpy as np\n",
    "# generating random numbers\n",
    "array_num = np.arange(1000000)\n",
    "list_num = list(range(1000000))\n",
    "list_num"
   ]
  },
  {
   "cell_type": "code",
   "execution_count": null,
   "metadata": {},
   "outputs": [],
   "source": [
    "# multiply array_num by 2\n",
    "array_num = array_num * 2\n",
    "array_num"
   ]
  },
  {
   "cell_type": "code",
   "execution_count": null,
   "metadata": {},
   "outputs": [],
   "source": [
    "# multiply list_num by 2 or any number\n",
    "list_num_2 = [num * 2 for num in list_num]\n",
    "list_num_2"
   ]
  }
 ],
 "metadata": {
  "language_info": {
   "name": "python"
  }
 },
 "nbformat": 4,
 "nbformat_minor": 2
}
