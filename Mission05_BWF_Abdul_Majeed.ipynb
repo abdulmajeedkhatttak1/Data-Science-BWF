{
 "cells": [
  {
   "cell_type": "markdown",
   "metadata": {},
   "source": [
    "# Python Data Structures \n",
    "## Data Structures and Sequences\n",
    "Python’s data structures are simple but powerful. Mastering their use is a critical\n",
    "part of becoming a proficient Python programmer. We start with tuple, list, and\n",
    "dictionary, which are some of the most frequently used sequence types.\n",
    "# Tuple\n",
    "A tuple is a fixed-length, immutable sequence of Python objects which, once assigned,\n",
    "cannot be changed. The easiest way to create one is with a comma-separated\n",
    "sequence of values wrapped in parentheses"
   ]
  },
  {
   "cell_type": "code",
   "execution_count": 1,
   "metadata": {},
   "outputs": [
    {
     "name": "stdout",
     "output_type": "stream",
     "text": [
      "(4, 6, 8)\n"
     ]
    }
   ],
   "source": [
    "tup = (4,6,8)\n",
    "tup\n",
    "print(tup)"
   ]
  }
 ],
 "metadata": {
  "kernelspec": {
   "display_name": "Python 3",
   "language": "python",
   "name": "python3"
  },
  "language_info": {
   "codemirror_mode": {
    "name": "ipython",
    "version": 3
   },
   "file_extension": ".py",
   "mimetype": "text/x-python",
   "name": "python",
   "nbconvert_exporter": "python",
   "pygments_lexer": "ipython3",
   "version": "3.12.0"
  }
 },
 "nbformat": 4,
 "nbformat_minor": 2
}
