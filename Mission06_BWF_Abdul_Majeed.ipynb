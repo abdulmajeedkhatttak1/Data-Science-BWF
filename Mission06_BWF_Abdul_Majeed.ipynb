{
 "cells": [
  {
   "cell_type": "markdown",
   "metadata": {},
   "source": [
    "# Classes\n",
    "Object-oriented programming is one of the most effective approaches to writing soft\n",
    "ware. In object-oriented programming you write classes that represent real-world things \n",
    "and situations, and you create objects based on these classes. When you write a class, you define the general \n",
    "behavior that a whole category of objects can have.\n",
    "\n",
    "Making an object from a class is called instantiation, and you work with \n",
    "instances of a class."
   ]
  },
  {
   "cell_type": "code",
   "execution_count": null,
   "metadata": {},
   "outputs": [],
   "source": []
  },
  {
   "cell_type": "code",
   "execution_count": 1,
   "metadata": {},
   "outputs": [
    {
     "name": "stdout",
     "output_type": "stream",
     "text": [
      "2016 Audi A4\n"
     ]
    }
   ],
   "source": [
    "class Car():\n",
    "    \"\"\"A simple attempt to represent a car.\"\"\"\n",
    "    def __init__(self, make, model, year):\n",
    "        \"\"\"Initialize attributes to describe a car.\"\"\"\n",
    "        self.make = make\n",
    "        self.model = model\n",
    "        self.year = year\n",
    "    def get_descriptive_name(self):\n",
    "        \"\"\"Return a neatly formatted descriptive name.\"\"\"\n",
    "        long_name = str(self.year) + ' ' + self.make + ' ' + self.model\n",
    "        return long_name.title()\n",
    "my_new_car = Car('audi', 'a4', 2016)\n",
    "print(my_new_car.get_descriptive_name())"
   ]
  }
 ],
 "metadata": {
  "kernelspec": {
   "display_name": "Python 3",
   "language": "python",
   "name": "python3"
  },
  "language_info": {
   "codemirror_mode": {
    "name": "ipython",
    "version": 3
   },
   "file_extension": ".py",
   "mimetype": "text/x-python",
   "name": "python",
   "nbconvert_exporter": "python",
   "pygments_lexer": "ipython3",
   "version": "3.12.0"
  }
 },
 "nbformat": 4,
 "nbformat_minor": 2
}
