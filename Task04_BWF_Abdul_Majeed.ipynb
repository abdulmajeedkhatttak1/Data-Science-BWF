{
 "cells": [
  {
   "cell_type": "markdown",
   "metadata": {},
   "source": [
    "# Introduction, Syntax, Variables, conditions and operators.\n",
    "## Introduction:\n",
    "I learned a bit about Python in general, and you installed \n",
    "Python to your system if it wasn’t already there. You also installed a text edi\n",
    "tor to make it easier to write Python code. You learned to run snippets of \n",
    "Python code in a terminal session, and you ran your first actual program, \n",
    "hello_world.py. You probably learned a bit about troubleshooting as well.\n",
    "## Syntax:\n",
    "python syntax refer to rules and regulation on which python work and easy to understand for compliler.\n",
    "In python every module has own syntax like printing, variable, data type and etc.\n",
    "## Variables\n",
    "its store value memory with name of variable. Can store different types of data.\n",
    "such as: int, str, tuple, list, set, dict and etc.\n",
    "\n"
   ]
  },
  {
   "cell_type": "code",
   "execution_count": 1,
   "metadata": {},
   "outputs": [
    {
     "name": "stdout",
     "output_type": "stream",
     "text": [
      "Helow every one lets Learn and happy learning. Data Science in BTF\n"
     ]
    }
   ],
   "source": [
    "print(\"Helow every one lets Learn and happy learning. Data Science in BTF\")"
   ]
  },
  {
   "cell_type": "code",
   "execution_count": 5,
   "metadata": {},
   "outputs": [
    {
     "name": "stdout",
     "output_type": "stream",
     "text": [
      "Hello Python world!\n",
      "Hello Python Crash Course BWF world!\n"
     ]
    }
   ],
   "source": [
    "message = \"Hello Python world!\"\n",
    "print(message)\n",
    "message = \"Hello Python Crash Course BWF world!\"\n",
    "print(message)"
   ]
  },
  {
   "cell_type": "code",
   "execution_count": 6,
   "metadata": {},
   "outputs": [
    {
     "name": "stdout",
     "output_type": "stream",
     "text": [
      "Data_Science_Bwf_Abdul Majeed\n"
     ]
    }
   ],
   "source": [
    "\n",
    "name = \"Data_Science_BWF_Abdul Majeed\"\n",
    "print(name.title())"
   ]
  },
  {
   "cell_type": "code",
   "execution_count": 7,
   "metadata": {},
   "outputs": [
    {
     "name": "stdout",
     "output_type": "stream",
     "text": [
      "DATA_SCIENCE_BWF_ABDUL MAJEED\n",
      "data_science_bwf_abdul majeed\n"
     ]
    }
   ],
   "source": [
    "name = \"Data_Science_BWF_Abdul Majeed\"\n",
    "print(name.upper())\n",
    "print(name.lower())"
   ]
  },
  {
   "cell_type": "code",
   "execution_count": null,
   "metadata": {},
   "outputs": [],
   "source": []
  },
  {
   "cell_type": "code",
   "execution_count": null,
   "metadata": {},
   "outputs": [],
   "source": []
  },
  {
   "cell_type": "code",
   "execution_count": null,
   "metadata": {},
   "outputs": [],
   "source": []
  },
  {
   "cell_type": "code",
   "execution_count": null,
   "metadata": {},
   "outputs": [],
   "source": []
  },
  {
   "cell_type": "code",
   "execution_count": null,
   "metadata": {},
   "outputs": [],
   "source": []
  }
 ],
 "metadata": {
  "kernelspec": {
   "display_name": "Python 3",
   "language": "python",
   "name": "python3"
  },
  "language_info": {
   "codemirror_mode": {
    "name": "ipython",
    "version": 3
   },
   "file_extension": ".py",
   "mimetype": "text/x-python",
   "name": "python",
   "nbconvert_exporter": "python",
   "pygments_lexer": "ipython3",
   "version": "3.12.0"
  }
 },
 "nbformat": 4,
 "nbformat_minor": 2
}
