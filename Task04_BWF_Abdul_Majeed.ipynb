{
 "cells": [
  {
   "cell_type": "markdown",
   "metadata": {},
   "source": [
    "# Introduction, Syntax, Variables, conditions and operators.\n",
    "## Introduction:\n",
    "I learned a bit about Python in general, and you installed \n",
    "Python to your system if it wasn’t already there. You also installed a text edi\n",
    "tor to make it easier to write Python code. You learned to run snippets of \n",
    "Python code in a terminal session, and you ran your first actual program, \n",
    "hello_world.py. You probably learned a bit about troubleshooting as well.\n",
    "## Syntax:\n",
    "python syntax refer to rules and regulation on which python work and easy to understand for compliler.\n",
    "In python every module has own syntax like printing, variable, data type and etc.\n",
    "## Variables\n",
    "its store value memory with name of variable. Can store different types of data.\n",
    "such as: int, str, tuple, list, set, dict and etc.\n",
    "\n"
   ]
  },
  {
   "cell_type": "code",
   "execution_count": 7,
   "metadata": {},
   "outputs": [
    {
     "name": "stdout",
     "output_type": "stream",
     "text": [
      "Helow every one lets Learn and happy learning. Data Science in BTF\n"
     ]
    }
   ],
   "source": [
    "print(\"Helow every one lets Learn and happy learning. Data Science in BTF\")"
   ]
  },
  {
   "cell_type": "code",
   "execution_count": 8,
   "metadata": {},
   "outputs": [
    {
     "name": "stdout",
     "output_type": "stream",
     "text": [
      "Hello Python world!\n",
      "Hello Python Crash Course BWF world!\n"
     ]
    }
   ],
   "source": [
    "message = \"Hello Python world!\"\n",
    "print(message)\n",
    "message = \"Hello Python Crash Course BWF world!\"\n",
    "print(message)"
   ]
  },
  {
   "cell_type": "code",
   "execution_count": 9,
   "metadata": {},
   "outputs": [
    {
     "name": "stdout",
     "output_type": "stream",
     "text": [
      "Data_Science_Bwf_Abdul Majeed\n"
     ]
    }
   ],
   "source": [
    "\n",
    "name = \"Data_Science_BWF_Abdul Majeed\"\n",
    "print(name.title())"
   ]
  },
  {
   "cell_type": "code",
   "execution_count": 10,
   "metadata": {},
   "outputs": [
    {
     "name": "stdout",
     "output_type": "stream",
     "text": [
      "DATA_SCIENCE_BWF_ABDUL MAJEED\n",
      "data_science_bwf_abdul majeed\n"
     ]
    }
   ],
   "source": [
    "name = \"Data_Science_BWF_Abdul Majeed\"\n",
    "print(name.upper())\n",
    "print(name.lower())"
   ]
  },
  {
   "cell_type": "code",
   "execution_count": 11,
   "metadata": {},
   "outputs": [
    {
     "name": "stdout",
     "output_type": "stream",
     "text": [
      "Addul Majeed BWF community\n"
     ]
    }
   ],
   "source": [
    "first_name = \"Addul Majeed\"\n",
    "last_name = \"BWF community\"\n",
    "full_name = first_name + \" \" + last_name\n",
    "print(full_name)"
   ]
  },
  {
   "cell_type": "code",
   "execution_count": 12,
   "metadata": {},
   "outputs": [
    {
     "name": "stdout",
     "output_type": "stream",
     "text": [
      "Happy 23rd Birthday!\n"
     ]
    }
   ],
   "source": [
    "# Avoiding type error in variable with str() function\n",
    "age = 23\n",
    "message = \"Happy \" + str(age) + \"rd Birthday!\"\n",
    "print(message)"
   ]
  },
  {
   "cell_type": "markdown",
   "metadata": {},
   "source": [
    "## Comments\n",
    "Comments are an extremely useful feature in most programming languages. \n",
    "Everything you’ve written in your programs so far is Python code. As your \n",
    "programs become longer and more complicated, you should add notes within \n",
    "your programs that describe your overall approach to the problem you’re \n",
    "solving. A comment allows you to write notes in English within your programs.\n",
    "## How Do You Write Comments?\n",
    "In Python, the hash mark (#) indicates a comment. Anything following a \n",
    "hash mark in your code is ignored by the Python interpreter. For example:"
   ]
  },
  {
   "cell_type": "code",
   "execution_count": 13,
   "metadata": {},
   "outputs": [
    {
     "name": "stdout",
     "output_type": "stream",
     "text": [
      "In Python, the hash mark (#) indicates a comment.\n",
      "this is also a comment\n"
     ]
    }
   ],
   "source": [
    "#In Python, the hash mark (#) indicates a comment.\n",
    "print(\"In Python, the hash mark (#) indicates a comment.\")\n",
    "\"\"\"this is also a comment\"\"\"\n",
    "print(\"this is also a comment\")"
   ]
  },
  {
   "cell_type": "code",
   "execution_count": null,
   "metadata": {},
   "outputs": [],
   "source": []
  },
  {
   "cell_type": "code",
   "execution_count": null,
   "metadata": {},
   "outputs": [],
   "source": []
  }
 ],
 "metadata": {
  "kernelspec": {
   "display_name": "Python 3",
   "language": "python",
   "name": "python3"
  },
  "language_info": {
   "codemirror_mode": {
    "name": "ipython",
    "version": 3
   },
   "file_extension": ".py",
   "mimetype": "text/x-python",
   "name": "python",
   "nbconvert_exporter": "python",
   "pygments_lexer": "ipython3",
   "version": "3.12.0"
  }
 },
 "nbformat": 4,
 "nbformat_minor": 2
}
