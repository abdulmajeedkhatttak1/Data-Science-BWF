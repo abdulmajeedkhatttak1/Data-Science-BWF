{
 "cells": [
  {
   "cell_type": "markdown",
   "metadata": {},
   "source": [
    "# Introduction, Syntax, Variables, conditions and operators.\n",
    "## Introduction:\n",
    "I learned a bit about Python in general, and you installed \n",
    "Python to your system if it wasn’t already there. You also installed a text edi\n",
    "tor to make it easier to write Python code. You learned to run snippets of \n",
    "Python code in a terminal session, and you ran your first actual program, \n",
    "hello_world.py. You probably learned a bit about troubleshooting as well.\n",
    "## Syntax:\n",
    "python syntax refer to rules and regulation on which python work and easy to understand for compliler.\n",
    "In python every module has own syntax like printing, variable, data type and etc.\n",
    "## Variables\n",
    "\n"
   ]
  },
  {
   "cell_type": "code",
   "execution_count": null,
   "metadata": {},
   "outputs": [],
   "source": [
    "print(\"Helow every one lets Learn and happy learning. Data Science in BTF\")"
   ]
  }
 ],
 "metadata": {
  "language_info": {
   "name": "python"
  }
 },
 "nbformat": 4,
 "nbformat_minor": 2
}
