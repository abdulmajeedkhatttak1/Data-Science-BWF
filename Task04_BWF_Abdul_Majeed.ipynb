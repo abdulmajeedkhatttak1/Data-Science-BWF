{
 "cells": [
  {
   "cell_type": "markdown",
   "metadata": {},
   "source": [
    "# Introduction, Syntax, Variables, conditions and operators.\n",
    "## Introduction:\n",
    "I learned a bit about Python in general, and you installed \n",
    "Python to your system if it wasn’t already there. You also installed a text edi\n",
    "tor to make it easier to write Python code. You learned to run snippets of \n",
    "Python code in a terminal session, and you ran your first actual program, \n",
    "hello_world.py. You probably learned a bit about troubleshooting as well.\n",
    "## Syntax:\n",
    "python syntax refer to rules and regulation on which python work and easy to understand for compliler.\n",
    "In python every module has own syntax like printing, variable, data type and etc.\n",
    "## Variables\n",
    "its store value memory with name of variable. Can store different types of data.\n",
    "such as: int, str, tuple, list, set, dict and etc.\n",
    "\n"
   ]
  },
  {
   "cell_type": "code",
   "execution_count": 7,
   "metadata": {},
   "outputs": [
    {
     "name": "stdout",
     "output_type": "stream",
     "text": [
      "Helow every one lets Learn and happy learning. Data Science in BTF\n"
     ]
    }
   ],
   "source": [
    "print(\"Helow every one lets Learn and happy learning. Data Science in BTF\")"
   ]
  },
  {
   "cell_type": "code",
   "execution_count": 8,
   "metadata": {},
   "outputs": [
    {
     "name": "stdout",
     "output_type": "stream",
     "text": [
      "Hello Python world!\n",
      "Hello Python Crash Course BWF world!\n"
     ]
    }
   ],
   "source": [
    "message = \"Hello Python world!\"\n",
    "print(message)\n",
    "message = \"Hello Python Crash Course BWF world!\"\n",
    "print(message)"
   ]
  },
  {
   "cell_type": "code",
   "execution_count": 9,
   "metadata": {},
   "outputs": [
    {
     "name": "stdout",
     "output_type": "stream",
     "text": [
      "Data_Science_Bwf_Abdul Majeed\n"
     ]
    }
   ],
   "source": [
    "\n",
    "name = \"Data_Science_BWF_Abdul Majeed\"\n",
    "print(name.title())"
   ]
  },
  {
   "cell_type": "code",
   "execution_count": 10,
   "metadata": {},
   "outputs": [
    {
     "name": "stdout",
     "output_type": "stream",
     "text": [
      "DATA_SCIENCE_BWF_ABDUL MAJEED\n",
      "data_science_bwf_abdul majeed\n"
     ]
    }
   ],
   "source": [
    "name = \"Data_Science_BWF_Abdul Majeed\"\n",
    "print(name.upper())\n",
    "print(name.lower())"
   ]
  },
  {
   "cell_type": "code",
   "execution_count": 11,
   "metadata": {},
   "outputs": [
    {
     "name": "stdout",
     "output_type": "stream",
     "text": [
      "Addul Majeed BWF community\n"
     ]
    }
   ],
   "source": [
    "first_name = \"Addul Majeed\"\n",
    "last_name = \"BWF community\"\n",
    "full_name = first_name + \" \" + last_name\n",
    "print(full_name)"
   ]
  },
  {
   "cell_type": "code",
   "execution_count": 12,
   "metadata": {},
   "outputs": [
    {
     "name": "stdout",
     "output_type": "stream",
     "text": [
      "Happy 23rd Birthday!\n"
     ]
    }
   ],
   "source": [
    "# Avoiding type error in variable with str() function\n",
    "age = 23\n",
    "message = \"Happy \" + str(age) + \"rd Birthday!\"\n",
    "print(message)"
   ]
  },
  {
   "cell_type": "markdown",
   "metadata": {},
   "source": [
    "## Comments\n",
    "Comments are an extremely useful feature in most programming languages. \n",
    "Everything you’ve written in your programs so far is Python code. As your \n",
    "programs become longer and more complicated, you should add notes within \n",
    "your programs that describe your overall approach to the problem you’re \n",
    "solving. A comment allows you to write notes in English within your programs.\n",
    "## How Do You Write Comments?\n",
    "In Python, the hash mark (#) indicates a comment. Anything following a \n",
    "hash mark in your code is ignored by the Python interpreter. For example:"
   ]
  },
  {
   "cell_type": "code",
   "execution_count": 13,
   "metadata": {},
   "outputs": [
    {
     "name": "stdout",
     "output_type": "stream",
     "text": [
      "In Python, the hash mark (#) indicates a comment.\n",
      "this is also a comment\n"
     ]
    }
   ],
   "source": [
    "#In Python, the hash mark (#) indicates a comment.\n",
    "print(\"In Python, the hash mark (#) indicates a comment.\")\n",
    "\"\"\"this is also a comment\"\"\"\n",
    "print(\"this is also a comment\")"
   ]
  },
  {
   "cell_type": "markdown",
   "metadata": {},
   "source": [
    "## the zen of Python"
   ]
  },
  {
   "cell_type": "code",
   "execution_count": 14,
   "metadata": {},
   "outputs": [
    {
     "name": "stdout",
     "output_type": "stream",
     "text": [
      "The Zen of Python, by Tim Peters\n",
      "\n",
      "Beautiful is better than ugly.\n",
      "Explicit is better than implicit.\n",
      "Simple is better than complex.\n",
      "Complex is better than complicated.\n",
      "Flat is better than nested.\n",
      "Sparse is better than dense.\n",
      "Readability counts.\n",
      "Special cases aren't special enough to break the rules.\n",
      "Although practicality beats purity.\n",
      "Errors should never pass silently.\n",
      "Unless explicitly silenced.\n",
      "In the face of ambiguity, refuse the temptation to guess.\n",
      "There should be one-- and preferably only one --obvious way to do it.\n",
      "Although that way may not be obvious at first unless you're Dutch.\n",
      "Now is better than never.\n",
      "Although never is often better than *right* now.\n",
      "If the implementation is hard to explain, it's a bad idea.\n",
      "If the implementation is easy to explain, it may be a good idea.\n",
      "Namespaces are one honking great idea -- let's do more of those!\n"
     ]
    }
   ],
   "source": [
    "import this"
   ]
  },
  {
   "cell_type": "markdown",
   "metadata": {},
   "source": [
    "#  IntroDuCIng lIsts\n",
    "## what Is a list?\n",
    "A list is a collection of items in a particular order. You can make a list that \n",
    "includes the letters of the alphabet, the digits from 0–9, or the names of \n",
    "all the people in your family.\n",
    "You can put anything you want into a list, and \n",
    "the items in your list don’t have to be related in any particular way. Because \n",
    "a list usually contains more than one element, it’s a good idea to make the \n",
    "name of your list plural, such as letters, digits, or names.\n",
    "In Python, square brackets ([]) indicate a list, and individual elements \n",
    "in the list are separated by commas. \n",
    "Here’s a simple example of a list."
   ]
  },
  {
   "cell_type": "code",
   "execution_count": 16,
   "metadata": {},
   "outputs": [
    {
     "name": "stdout",
     "output_type": "stream",
     "text": [
      "['trek', 'cannondale', 'redline', 'specialized']\n"
     ]
    }
   ],
   "source": [
    "# bicycles list / list of bicycles\n",
    "bicycles = ['trek', 'cannondale', 'redline', 'specialized']\n",
    "print(bicycles)"
   ]
  },
  {
   "cell_type": "markdown",
   "metadata": {},
   "source": [
    "## Accessing Elements in a List\n",
    " Lists are ordered collections, so you can access any element in a list by \n",
    "telling Python the position, or index, of the item desired. To access an ele\n",
    "ment in a list, write the name of the list followed by the index of the item \n",
    "enclosed in square brackets.\n",
    " For example, let’s pull out the first bicycle in the list bicycles.\n",
    "## Index Positions Start at 0, Not 1"
   ]
  },
  {
   "cell_type": "code",
   "execution_count": 21,
   "metadata": {},
   "outputs": [
    {
     "name": "stdout",
     "output_type": "stream",
     "text": [
      "trek\n",
      "cannondale\n",
      "redline\n",
      "specialized\n"
     ]
    }
   ],
   "source": [
    "# Accessing first element from the list\n",
    "print(bicycles[0])\n",
    "\n",
    "# Accessing 2nd element from the list\n",
    "print(bicycles[1])\n",
    "\n",
    "# Accessing 3rd element from the list\n",
    "print(bicycles[2])\n",
    "\n",
    "# Accessing the last element from the list\n",
    "print(bicycles[-1])\n"
   ]
  },
  {
   "cell_type": "markdown",
   "metadata": {},
   "source": [
    "This is the result you want your users to see—clean, neatly formatted \n",
    "output.\n",
    " You can also use the string methods from Chapter 2 on any element in \n",
    "a list. For example, you can format the element 'trek' more neatly by using \n",
    "the title() method:"
   ]
  },
  {
   "cell_type": "code",
   "execution_count": 23,
   "metadata": {},
   "outputs": [
    {
     "name": "stdout",
     "output_type": "stream",
     "text": [
      "Trek\n"
     ]
    }
   ],
   "source": [
    "print(bicycles[0].title())"
   ]
  },
  {
   "cell_type": "markdown",
   "metadata": {},
   "source": [
    "## Using Individual Values from a List\n",
    "You can use individual values from a list just as you would any other vari\n",
    "able. For example, you can use concatenation to create a message based on \n",
    "a value from a list.\n",
    "Let’s try pulling the first bicycle from the list and composing a message \n",
    "using that value."
   ]
  },
  {
   "cell_type": "code",
   "execution_count": 24,
   "metadata": {},
   "outputs": [
    {
     "name": "stdout",
     "output_type": "stream",
     "text": [
      "My first bicycle was a Trek.\n"
     ]
    }
   ],
   "source": [
    "message = \"My first bicycle was a \" + bicycles[0].title() + \".\"\n",
    "print(message)"
   ]
  },
  {
   "cell_type": "markdown",
   "metadata": {},
   "source": [
    "# Changing, adding, and removing elements"
   ]
  },
  {
   "cell_type": "code",
   "execution_count": null,
   "metadata": {},
   "outputs": [],
   "source": []
  },
  {
   "cell_type": "code",
   "execution_count": null,
   "metadata": {},
   "outputs": [],
   "source": []
  }
 ],
 "metadata": {
  "kernelspec": {
   "display_name": "Python 3",
   "language": "python",
   "name": "python3"
  },
  "language_info": {
   "codemirror_mode": {
    "name": "ipython",
    "version": 3
   },
   "file_extension": ".py",
   "mimetype": "text/x-python",
   "name": "python",
   "nbconvert_exporter": "python",
   "pygments_lexer": "ipython3",
   "version": "3.12.0"
  }
 },
 "nbformat": 4,
 "nbformat_minor": 2
}
